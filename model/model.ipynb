{
 "cells": [
  {
   "cell_type": "code",
   "execution_count": null,
   "id": "24d9f670",
   "metadata": {
    "vscode": {
     "languageId": "plaintext"
    }
   },
   "outputs": [],
   "source": [
    "!pip install pandas scikit-learn xgboost sentence-transformers torch"
   ]
  },
  {
   "cell_type": "code",
   "execution_count": null,
   "id": "f37298ae",
   "metadata": {
    "vscode": {
     "languageId": "plaintext"
    }
   },
   "outputs": [],
   "source": [
    "import json\n",
    "import pandas as pd\n",
    "from sklearn.model_selection import train_test_split\n",
    "from sklearn.feature_extraction.text import TfidfVectorizer\n",
    "from sklearn.pipeline import Pipeline\n",
    "from sklearn.metrics import classification_report\n",
    "from xgboost import XGBClassifier\n",
    "from sentence_transformers import SentenceTransformer, util\n",
    "import torch\n"
   ]
  },
  {
   "cell_type": "code",
   "execution_count": null,
   "id": "8443479e",
   "metadata": {
    "vscode": {
     "languageId": "plaintext"
    }
   },
   "outputs": [],
   "source": [
    "# Load dataset\n",
    "DATA_PATH = \"menu_dataset.json\"  # 👈 replace with your dataset path\n",
    "\n",
    "with open(DATA_PATH, \"r\", encoding=\"utf-8\") as f:\n",
    "    data = json.load(f)\n",
    "\n",
    "df = pd.DataFrame(data)\n",
    "print(\"✅ Dataset loaded successfully!\")\n",
    "print(df.head())\n",
    "\n",
    "# Check column availability\n",
    "required_cols = [\"dish_name\", \"cuisine_type\", \"occasion_tags\", \"description\"]\n",
    "for col in required_cols:\n",
    "    if col not in df.columns:\n",
    "        raise ValueError(f\"Missing required column: {col}\")\n"
   ]
  },
  {
   "cell_type": "code",
   "execution_count": null,
   "id": "6504327e",
   "metadata": {
    "vscode": {
     "languageId": "plaintext"
    }
   },
   "outputs": [],
   "source": [
    "# Prepare features and labels\n",
    "X = df[\"occasion_tags\"].astype(str)\n",
    "y = df[\"cuisine_type\"].astype(str)\n",
    "\n",
    "# Train-test split\n",
    "X_train, X_test, y_train, y_test = train_test_split(\n",
    "    X, y, test_size=0.2, random_state=42\n",
    ")\n",
    "\n",
    "# Build TF-IDF + XGBoost pipeline\n",
    "clf_pipeline = Pipeline([\n",
    "    (\"tfidf\", TfidfVectorizer()),\n",
    "    (\"clf\", XGBClassifier(\n",
    "        use_label_encoder=False,\n",
    "        eval_metric=\"mlogloss\",\n",
    "        max_depth=6,\n",
    "        n_estimators=200,\n",
    "        learning_rate=0.1,\n",
    "    )),\n",
    "])\n",
    "\n",
    "# Train model\n",
    "clf_pipeline.fit(X_train, y_train)\n",
    "\n",
    "# Evaluate\n",
    "y_pred = clf_pipeline.predict(X_test)\n",
    "print(\"\\n📊 Classifier Performance:\\n\")\n",
    "print(classification_report(y_test, y_pred))\n"
   ]
  },
  {
   "cell_type": "code",
   "execution_count": null,
   "id": "f12a10bd",
   "metadata": {
    "vscode": {
     "languageId": "plaintext"
    }
   },
   "outputs": [],
   "source": [
    "embedder = SentenceTransformer(\"all-MiniLM-L6-v2\")\n",
    "\n",
    "# Combine dish info for better context\n",
    "df[\"dish_text\"] = (\n",
    "    df[\"dish_name\"]\n",
    "    + \" - \"\n",
    "    + df[\"description\"].fillna(\"\")\n",
    "    + \" (\" + df[\"cuisine_type\"] + \")\"\n",
    ")\n",
    "\n",
    "# Encode all dishes\n",
    "dish_embeddings = embedder.encode(df[\"dish_text\"].tolist(), convert_to_tensor=True)\n",
    "print(\"✅ Embeddings generated for all dishes!\")\n"
   ]
  },
  {
   "cell_type": "code",
   "execution_count": null,
   "id": "ae56f3cf",
   "metadata": {
    "vscode": {
     "languageId": "plaintext"
    }
   },
   "outputs": [],
   "source": [
    "def generate_menu(occasion_text, df, clf_pipeline, embedder, dish_embeddings, top_k=10):\n",
    "    \"\"\"Generate a menu based on occasion using hybrid model.\"\"\"\n",
    "    # Step 1: Predict cuisine\n",
    "    predicted_cuisine = clf_pipeline.predict([occasion_text])[0]\n",
    "\n",
    "    # Step 2: Filter dishes by predicted cuisine\n",
    "    subset = df[df[\"cuisine_type\"] == predicted_cuisine].reset_index(drop=True)\n",
    "    if subset.empty:\n",
    "        subset = df  # fallback to all dishes if none found\n",
    "\n",
    "    # Step 3: Compute similarity with subset\n",
    "    query_embedding = embedder.encode(occasion_text, convert_to_tensor=True)\n",
    "    subset_embeddings = embedder.encode(subset[\"dish_text\"].tolist(), convert_to_tensor=True)\n",
    "\n",
    "    cosine_scores = util.cos_sim(query_embedding, subset_embeddings)[0]\n",
    "    top_results = torch.topk(cosine_scores, k=min(top_k, len(subset)))\n",
    "\n",
    "    # Step 4: Format results\n",
    "    recommended = subset.iloc[top_results.indices.cpu().numpy()]\n",
    "    menu_items = recommended[[\"dish_name\", \"course\", \"veg\"]].to_dict(orient=\"records\")\n",
    "\n",
    "    return {\n",
    "        \"occasion\": occasion_text,\n",
    "        \"predicted_cuisine\": predicted_cuisine,\n",
    "        \"menu\": menu_items,\n",
    "    }\n"
   ]
  },
  {
   "cell_type": "code",
   "execution_count": null,
   "id": "b8e2b693",
   "metadata": {
    "vscode": {
     "languageId": "plaintext"
    }
   },
   "outputs": [],
   "source": [
    "# Test on sample occasions\n",
    "test_occasions = [\n",
    "    \"Corporate lunch\",\n",
    "    \"South Indian wedding dinner\",\n",
    "    \"Festival buffet\",\n",
    "    \"Birthday party\",\n",
    "]\n",
    "\n",
    "for occasion in test_occasions:\n",
    "    menu = generate_menu(occasion, df, clf_pipeline, embedder, dish_embeddings, top_k=8)\n",
    "    print(f\"\\n=== {occasion.upper()} ===\")\n",
    "    print(f\"Predicted Cuisine: {menu['predicted_cuisine']}\\n\")\n",
    "    for dish in menu[\"menu\"]:\n",
    "        veg_label = \"Veg\" if dish[\"veg\"] else \"Non-Veg\"\n",
    "        print(f\" - {dish['dish_name']} ({dish['course']}, {veg_label})\")\n"
   ]
  },
  {
   "cell_type": "code",
   "execution_count": null,
   "id": "bb40bc30",
   "metadata": {
    "vscode": {
     "languageId": "plaintext"
    }
   },
   "outputs": [],
   "source": [
    "import pickle\n",
    "import torch\n",
    "\n",
    "# Save classifier\n",
    "with open(\"occasion_classifier.pkl\", \"wb\") as f:\n",
    "    pickle.dump(clf_pipeline, f)\n",
    "\n",
    "# Save embeddings and data\n",
    "torch.save(dish_embeddings, \"dish_embeddings.pt\")\n",
    "df.to_csv(\"menu_data_processed.csv\", index=False)\n",
    "\n",
    "print(\"✅ Models and embeddings saved!\")\n"
   ]
  }
 ],
 "metadata": {
  "language_info": {
   "name": "python"
  }
 },
 "nbformat": 4,
 "nbformat_minor": 5
}
